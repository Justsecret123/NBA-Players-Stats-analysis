{
 "cells": [
  {
   "cell_type": "markdown",
   "metadata": {},
   "source": [
    "<div class=\"alert alert-info\">\n",
    "    <center> \n",
    "        <h1> Players stats </h1> \n",
    "    </center>\n",
    "</div>"
   ]
  },
  {
   "cell_type": "markdown",
   "metadata": {},
   "source": [
    "<h1> Libraries </h1>"
   ]
  },
  {
   "cell_type": "code",
   "execution_count": 1,
   "metadata": {},
   "outputs": [],
   "source": [
    "import pandas as pd\n",
    "import numpy as np\n",
    "import seaborn as sns\n",
    "import matplotlib.pyplot as plt \n",
    "\n",
    "from IPython.display import display\n",
    "\n",
    "import widgets_definition as wd\n",
    "import operations as op"
   ]
  },
  {
   "cell_type": "markdown",
   "metadata": {},
   "source": [
    "<h1> Files </h1>"
   ]
  },
  {
   "cell_type": "code",
   "execution_count": 2,
   "metadata": {},
   "outputs": [
    {
     "data": {
      "text/html": [
       "<div>\n",
       "<style scoped>\n",
       "    .dataframe tbody tr th:only-of-type {\n",
       "        vertical-align: middle;\n",
       "    }\n",
       "\n",
       "    .dataframe tbody tr th {\n",
       "        vertical-align: top;\n",
       "    }\n",
       "\n",
       "    .dataframe thead th {\n",
       "        text-align: right;\n",
       "    }\n",
       "</style>\n",
       "<table border=\"1\" class=\"dataframe\">\n",
       "  <thead>\n",
       "    <tr style=\"text-align: right;\">\n",
       "      <th></th>\n",
       "      <th>Points</th>\n",
       "      <th>Assists</th>\n",
       "      <th>Rebounds</th>\n",
       "      <th>Steals</th>\n",
       "      <th>Blocks</th>\n",
       "      <th>Primary Position</th>\n",
       "    </tr>\n",
       "    <tr>\n",
       "      <th>Player</th>\n",
       "      <th></th>\n",
       "      <th></th>\n",
       "      <th></th>\n",
       "      <th></th>\n",
       "      <th></th>\n",
       "      <th></th>\n",
       "    </tr>\n",
       "  </thead>\n",
       "  <tbody>\n",
       "    <tr>\n",
       "      <th>LeBron</th>\n",
       "      <td>7631</td>\n",
       "      <td>1919</td>\n",
       "      <td>2391</td>\n",
       "      <td>454</td>\n",
       "      <td>252</td>\n",
       "      <td>3</td>\n",
       "    </tr>\n",
       "    <tr>\n",
       "      <th>MJ</th>\n",
       "      <td>5987</td>\n",
       "      <td>1022</td>\n",
       "      <td>1152</td>\n",
       "      <td>376</td>\n",
       "      <td>158</td>\n",
       "      <td>2</td>\n",
       "    </tr>\n",
       "    <tr>\n",
       "      <th>Kareem</th>\n",
       "      <td>5762</td>\n",
       "      <td>767</td>\n",
       "      <td>2481</td>\n",
       "      <td>189</td>\n",
       "      <td>476</td>\n",
       "      <td>5</td>\n",
       "    </tr>\n",
       "    <tr>\n",
       "      <th>Kobe</th>\n",
       "      <td>5640</td>\n",
       "      <td>1040</td>\n",
       "      <td>1119</td>\n",
       "      <td>310</td>\n",
       "      <td>144</td>\n",
       "      <td>2</td>\n",
       "    </tr>\n",
       "    <tr>\n",
       "      <th>Karl_Malone</th>\n",
       "      <td>4761</td>\n",
       "      <td>610</td>\n",
       "      <td>2062</td>\n",
       "      <td>258</td>\n",
       "      <td>135</td>\n",
       "      <td>4</td>\n",
       "    </tr>\n",
       "  </tbody>\n",
       "</table>\n",
       "</div>"
      ],
      "text/plain": [
       "             Points  Assists  Rebounds  Steals  Blocks  Primary Position\n",
       "Player                                                                  \n",
       "LeBron         7631     1919      2391     454     252                 3\n",
       "MJ             5987     1022      1152     376     158                 2\n",
       "Kareem         5762      767      2481     189     476                 5\n",
       "Kobe           5640     1040      1119     310     144                 2\n",
       "Karl_Malone    4761      610      2062     258     135                 4"
      ]
     },
     "execution_count": 2,
     "metadata": {},
     "output_type": "execute_result"
    }
   ],
   "source": [
    "regular_season = pd.read_csv(\"Data_regular_season.csv\")\n",
    "regular_season = regular_season.set_index('Player')\n",
    "playoffs = pd.read_csv(\"Data_playoffs.csv\")\n",
    "playoffs = playoffs.set_index('Player')\n",
    "\n",
    "playoffs.head(5)"
   ]
  },
  {
   "cell_type": "markdown",
   "metadata": {},
   "source": [
    "<h2> Totals : </h2>"
   ]
  },
  {
   "cell_type": "code",
   "execution_count": 3,
   "metadata": {},
   "outputs": [
    {
     "data": {
      "text/html": [
       "<div>\n",
       "<style scoped>\n",
       "    .dataframe tbody tr th:only-of-type {\n",
       "        vertical-align: middle;\n",
       "    }\n",
       "\n",
       "    .dataframe tbody tr th {\n",
       "        vertical-align: top;\n",
       "    }\n",
       "\n",
       "    .dataframe thead th {\n",
       "        text-align: right;\n",
       "    }\n",
       "</style>\n",
       "<table border=\"1\" class=\"dataframe\">\n",
       "  <thead>\n",
       "    <tr style=\"text-align: right;\">\n",
       "      <th></th>\n",
       "      <th>Points</th>\n",
       "      <th>Assists</th>\n",
       "      <th>Rebounds</th>\n",
       "      <th>Steals</th>\n",
       "      <th>Blocks</th>\n",
       "      <th>Primary Position</th>\n",
       "    </tr>\n",
       "    <tr>\n",
       "      <th>Player</th>\n",
       "      <th></th>\n",
       "      <th></th>\n",
       "      <th></th>\n",
       "      <th></th>\n",
       "      <th></th>\n",
       "      <th></th>\n",
       "    </tr>\n",
       "  </thead>\n",
       "  <tbody>\n",
       "    <tr>\n",
       "      <th>LeBron</th>\n",
       "      <td>42998</td>\n",
       "      <td>11615</td>\n",
       "      <td>12142</td>\n",
       "      <td>2517</td>\n",
       "      <td>1234</td>\n",
       "      <td>3</td>\n",
       "    </tr>\n",
       "    <tr>\n",
       "      <th>MJ</th>\n",
       "      <td>38279</td>\n",
       "      <td>6655</td>\n",
       "      <td>7824</td>\n",
       "      <td>2320</td>\n",
       "      <td>1051</td>\n",
       "      <td>2</td>\n",
       "    </tr>\n",
       "    <tr>\n",
       "      <th>Kareem</th>\n",
       "      <td>44149</td>\n",
       "      <td>6427</td>\n",
       "      <td>19921</td>\n",
       "      <td>1349</td>\n",
       "      <td>3665</td>\n",
       "      <td>5</td>\n",
       "    </tr>\n",
       "    <tr>\n",
       "      <th>Kobe</th>\n",
       "      <td>39283</td>\n",
       "      <td>7346</td>\n",
       "      <td>8166</td>\n",
       "      <td>2254</td>\n",
       "      <td>784</td>\n",
       "      <td>2</td>\n",
       "    </tr>\n",
       "    <tr>\n",
       "      <th>Karl_Malone</th>\n",
       "      <td>41689</td>\n",
       "      <td>5858</td>\n",
       "      <td>17030</td>\n",
       "      <td>2343</td>\n",
       "      <td>1280</td>\n",
       "      <td>4</td>\n",
       "    </tr>\n",
       "  </tbody>\n",
       "</table>\n",
       "</div>"
      ],
      "text/plain": [
       "             Points  Assists  Rebounds  Steals  Blocks  Primary Position\n",
       "Player                                                                  \n",
       "LeBron        42998    11615     12142    2517    1234                 3\n",
       "MJ            38279     6655      7824    2320    1051                 2\n",
       "Kareem        44149     6427     19921    1349    3665                 5\n",
       "Kobe          39283     7346      8166    2254     784                 2\n",
       "Karl_Malone   41689     5858     17030    2343    1280                 4"
      ]
     },
     "execution_count": 3,
     "metadata": {},
     "output_type": "execute_result"
    }
   ],
   "source": [
    "globals()[\"totals\"] = regular_season + playoffs\n",
    "totals[\"Primary Position\"] = np.int64(totals[\"Primary Position\"]*0.5)\n",
    "totals.head()"
   ]
  },
  {
   "cell_type": "markdown",
   "metadata": {},
   "source": [
    "<div class=\"alert alert-info\"> \n",
    "    <center> <h2> Heatmap </h2> </center> \n",
    "</div>"
   ]
  },
  {
   "cell_type": "code",
   "execution_count": 4,
   "metadata": {},
   "outputs": [],
   "source": [
    "heatmap_button, heatmap_show_annotations, heatmap_width, heatmap_height, heatmap_output = wd.heatmap_widgets()"
   ]
  },
  {
   "cell_type": "code",
   "execution_count": 5,
   "metadata": {},
   "outputs": [],
   "source": [
    "@heatmap_button.on_click\n",
    "def on_click(self): \n",
    "    heatmap_output.clear_output()\n",
    "    annot = heatmap_show_annotations.value\n",
    "    figsize = (heatmap_width.value,heatmap_height.value)\n",
    "    with heatmap_output:\n",
    "        op.create_heatmap(totals, size=figsize,annotations=annot)"
   ]
  },
  {
   "cell_type": "code",
   "execution_count": 6,
   "metadata": {},
   "outputs": [
    {
     "data": {
      "application/vnd.jupyter.widget-view+json": {
       "model_id": "f272bf2712c14dd28b0b4d1eb764cd87",
       "version_major": 2,
       "version_minor": 0
      },
      "text/plain": [
       "Checkbox(value=True, description='Show annotations')"
      ]
     },
     "metadata": {},
     "output_type": "display_data"
    },
    {
     "data": {
      "application/vnd.jupyter.widget-view+json": {
       "model_id": "b3713766300d4b9694bbd26c475c8a26",
       "version_major": 2,
       "version_minor": 0
      },
      "text/plain": [
       "IntSlider(value=10, description='Width', max=10, min=5)"
      ]
     },
     "metadata": {},
     "output_type": "display_data"
    },
    {
     "data": {
      "application/vnd.jupyter.widget-view+json": {
       "model_id": "d216f780d07e44a4902f1eda3ab22591",
       "version_major": 2,
       "version_minor": 0
      },
      "text/plain": [
       "IntSlider(value=5, description='Height', max=10, min=5)"
      ]
     },
     "metadata": {},
     "output_type": "display_data"
    },
    {
     "data": {
      "application/vnd.jupyter.widget-view+json": {
       "model_id": "3e15b1c73ac54fcead1b9a8177528b11",
       "version_major": 2,
       "version_minor": 0
      },
      "text/plain": [
       "Button(button_style='info', description='Show heatmap', style=ButtonStyle())"
      ]
     },
     "metadata": {},
     "output_type": "display_data"
    },
    {
     "data": {
      "application/vnd.jupyter.widget-view+json": {
       "model_id": "87de7476a4cb430fa5080aa250bd2776",
       "version_major": 2,
       "version_minor": 0
      },
      "text/plain": [
       "Output()"
      ]
     },
     "metadata": {},
     "output_type": "display_data"
    }
   ],
   "source": [
    "display(heatmap_show_annotations, heatmap_width, heatmap_height, heatmap_button, heatmap_output)"
   ]
  },
  {
   "cell_type": "markdown",
   "metadata": {},
   "source": [
    "<h1> Stats grouped by position </h1>"
   ]
  },
  {
   "cell_type": "markdown",
   "metadata": {},
   "source": [
    "<h2> Point guards </h2>"
   ]
  },
  {
   "cell_type": "code",
   "execution_count": 7,
   "metadata": {},
   "outputs": [
    {
     "data": {
      "text/html": [
       "<div>\n",
       "<style scoped>\n",
       "    .dataframe tbody tr th:only-of-type {\n",
       "        vertical-align: middle;\n",
       "    }\n",
       "\n",
       "    .dataframe tbody tr th {\n",
       "        vertical-align: top;\n",
       "    }\n",
       "\n",
       "    .dataframe thead th {\n",
       "        text-align: right;\n",
       "    }\n",
       "</style>\n",
       "<table border=\"1\" class=\"dataframe\">\n",
       "  <thead>\n",
       "    <tr style=\"text-align: right;\">\n",
       "      <th></th>\n",
       "      <th>Points</th>\n",
       "      <th>Assists</th>\n",
       "      <th>Rebounds</th>\n",
       "      <th>Steals</th>\n",
       "      <th>Blocks</th>\n",
       "      <th>Primary Position</th>\n",
       "    </tr>\n",
       "    <tr>\n",
       "      <th>Player</th>\n",
       "      <th></th>\n",
       "      <th></th>\n",
       "      <th></th>\n",
       "      <th></th>\n",
       "      <th></th>\n",
       "      <th></th>\n",
       "    </tr>\n",
       "  </thead>\n",
       "  <tbody>\n",
       "    <tr>\n",
       "      <th>Magic</th>\n",
       "      <td>21408</td>\n",
       "      <td>12487</td>\n",
       "      <td>8024</td>\n",
       "      <td>2082</td>\n",
       "      <td>438</td>\n",
       "      <td>1</td>\n",
       "    </tr>\n",
       "    <tr>\n",
       "      <th>Stockton</th>\n",
       "      <td>22147</td>\n",
       "      <td>17645</td>\n",
       "      <td>4659</td>\n",
       "      <td>3603</td>\n",
       "      <td>365</td>\n",
       "      <td>1</td>\n",
       "    </tr>\n",
       "    <tr>\n",
       "      <th>Robertson</th>\n",
       "      <td>28620</td>\n",
       "      <td>10656</td>\n",
       "      <td>8382</td>\n",
       "      <td>92</td>\n",
       "      <td>8</td>\n",
       "      <td>1</td>\n",
       "    </tr>\n",
       "  </tbody>\n",
       "</table>\n",
       "</div>"
      ],
      "text/plain": [
       "           Points  Assists  Rebounds  Steals  Blocks  Primary Position\n",
       "Player                                                                \n",
       "Magic       21408    12487      8024    2082     438                 1\n",
       "Stockton    22147    17645      4659    3603     365                 1\n",
       "Robertson   28620    10656      8382      92       8                 1"
      ]
     },
     "execution_count": 7,
     "metadata": {},
     "output_type": "execute_result"
    }
   ],
   "source": [
    "point_guards = totals[totals[\"Primary Position\"]==1]\n",
    "point_guards.head(3)"
   ]
  },
  {
   "cell_type": "markdown",
   "metadata": {},
   "source": [
    "<h2> Shooting guards </h2>"
   ]
  },
  {
   "cell_type": "code",
   "execution_count": 8,
   "metadata": {},
   "outputs": [
    {
     "data": {
      "text/html": [
       "<div>\n",
       "<style scoped>\n",
       "    .dataframe tbody tr th:only-of-type {\n",
       "        vertical-align: middle;\n",
       "    }\n",
       "\n",
       "    .dataframe tbody tr th {\n",
       "        vertical-align: top;\n",
       "    }\n",
       "\n",
       "    .dataframe thead th {\n",
       "        text-align: right;\n",
       "    }\n",
       "</style>\n",
       "<table border=\"1\" class=\"dataframe\">\n",
       "  <thead>\n",
       "    <tr style=\"text-align: right;\">\n",
       "      <th></th>\n",
       "      <th>Points</th>\n",
       "      <th>Assists</th>\n",
       "      <th>Rebounds</th>\n",
       "      <th>Steals</th>\n",
       "      <th>Blocks</th>\n",
       "      <th>Primary Position</th>\n",
       "    </tr>\n",
       "    <tr>\n",
       "      <th>Player</th>\n",
       "      <th></th>\n",
       "      <th></th>\n",
       "      <th></th>\n",
       "      <th></th>\n",
       "      <th></th>\n",
       "      <th></th>\n",
       "    </tr>\n",
       "  </thead>\n",
       "  <tbody>\n",
       "    <tr>\n",
       "      <th>MJ</th>\n",
       "      <td>38279</td>\n",
       "      <td>6655</td>\n",
       "      <td>7824</td>\n",
       "      <td>2320</td>\n",
       "      <td>1051</td>\n",
       "      <td>2</td>\n",
       "    </tr>\n",
       "    <tr>\n",
       "      <th>Kobe</th>\n",
       "      <td>39283</td>\n",
       "      <td>7346</td>\n",
       "      <td>8166</td>\n",
       "      <td>2254</td>\n",
       "      <td>784</td>\n",
       "      <td>2</td>\n",
       "    </tr>\n",
       "    <tr>\n",
       "      <th>Dwyane_Wade</th>\n",
       "      <td>27119</td>\n",
       "      <td>6571</td>\n",
       "      <td>5861</td>\n",
       "      <td>1893</td>\n",
       "      <td>1060</td>\n",
       "      <td>2</td>\n",
       "    </tr>\n",
       "  </tbody>\n",
       "</table>\n",
       "</div>"
      ],
      "text/plain": [
       "             Points  Assists  Rebounds  Steals  Blocks  Primary Position\n",
       "Player                                                                  \n",
       "MJ            38279     6655      7824    2320    1051                 2\n",
       "Kobe          39283     7346      8166    2254     784                 2\n",
       "Dwyane_Wade   27119     6571      5861    1893    1060                 2"
      ]
     },
     "execution_count": 8,
     "metadata": {},
     "output_type": "execute_result"
    }
   ],
   "source": [
    "shooting_guards = totals[totals[\"Primary Position\"] == 2]\n",
    "shooting_guards.head(3)"
   ]
  },
  {
   "cell_type": "markdown",
   "metadata": {},
   "source": [
    "<h2> Small forwards </h2>"
   ]
  },
  {
   "cell_type": "code",
   "execution_count": 9,
   "metadata": {},
   "outputs": [
    {
     "data": {
      "text/html": [
       "<div>\n",
       "<style scoped>\n",
       "    .dataframe tbody tr th:only-of-type {\n",
       "        vertical-align: middle;\n",
       "    }\n",
       "\n",
       "    .dataframe tbody tr th {\n",
       "        vertical-align: top;\n",
       "    }\n",
       "\n",
       "    .dataframe thead th {\n",
       "        text-align: right;\n",
       "    }\n",
       "</style>\n",
       "<table border=\"1\" class=\"dataframe\">\n",
       "  <thead>\n",
       "    <tr style=\"text-align: right;\">\n",
       "      <th></th>\n",
       "      <th>Points</th>\n",
       "      <th>Assists</th>\n",
       "      <th>Rebounds</th>\n",
       "      <th>Steals</th>\n",
       "      <th>Blocks</th>\n",
       "      <th>Primary Position</th>\n",
       "    </tr>\n",
       "    <tr>\n",
       "      <th>Player</th>\n",
       "      <th></th>\n",
       "      <th></th>\n",
       "      <th></th>\n",
       "      <th></th>\n",
       "      <th></th>\n",
       "      <th></th>\n",
       "    </tr>\n",
       "  </thead>\n",
       "  <tbody>\n",
       "    <tr>\n",
       "      <th>LeBron</th>\n",
       "      <td>42998</td>\n",
       "      <td>11615</td>\n",
       "      <td>12142</td>\n",
       "      <td>2517</td>\n",
       "      <td>1234</td>\n",
       "      <td>3</td>\n",
       "    </tr>\n",
       "    <tr>\n",
       "      <th>Paul_Pierce</th>\n",
       "      <td>29577</td>\n",
       "      <td>5287</td>\n",
       "      <td>8512</td>\n",
       "      <td>1956</td>\n",
       "      <td>850</td>\n",
       "      <td>3</td>\n",
       "    </tr>\n",
       "    <tr>\n",
       "      <th>Dominique_Wikins</th>\n",
       "      <td>28091</td>\n",
       "      <td>2820</td>\n",
       "      <td>7544</td>\n",
       "      <td>1451</td>\n",
       "      <td>677</td>\n",
       "      <td>3</td>\n",
       "    </tr>\n",
       "  </tbody>\n",
       "</table>\n",
       "</div>"
      ],
      "text/plain": [
       "                  Points  Assists  Rebounds  Steals  Blocks  Primary Position\n",
       "Player                                                                       \n",
       "LeBron             42998    11615     12142    2517    1234                 3\n",
       "Paul_Pierce        29577     5287      8512    1956     850                 3\n",
       "Dominique_Wikins   28091     2820      7544    1451     677                 3"
      ]
     },
     "execution_count": 9,
     "metadata": {},
     "output_type": "execute_result"
    }
   ],
   "source": [
    "small_forwards = totals[totals[\"Primary Position\"] == 3]\n",
    "small_forwards.head(3)"
   ]
  },
  {
   "cell_type": "markdown",
   "metadata": {},
   "source": [
    "<h2> Power forwards </h2>"
   ]
  },
  {
   "cell_type": "code",
   "execution_count": 10,
   "metadata": {},
   "outputs": [
    {
     "data": {
      "text/html": [
       "<div>\n",
       "<style scoped>\n",
       "    .dataframe tbody tr th:only-of-type {\n",
       "        vertical-align: middle;\n",
       "    }\n",
       "\n",
       "    .dataframe tbody tr th {\n",
       "        vertical-align: top;\n",
       "    }\n",
       "\n",
       "    .dataframe thead th {\n",
       "        text-align: right;\n",
       "    }\n",
       "</style>\n",
       "<table border=\"1\" class=\"dataframe\">\n",
       "  <thead>\n",
       "    <tr style=\"text-align: right;\">\n",
       "      <th></th>\n",
       "      <th>Points</th>\n",
       "      <th>Assists</th>\n",
       "      <th>Rebounds</th>\n",
       "      <th>Steals</th>\n",
       "      <th>Blocks</th>\n",
       "      <th>Primary Position</th>\n",
       "    </tr>\n",
       "    <tr>\n",
       "      <th>Player</th>\n",
       "      <th></th>\n",
       "      <th></th>\n",
       "      <th></th>\n",
       "      <th></th>\n",
       "      <th></th>\n",
       "      <th></th>\n",
       "    </tr>\n",
       "  </thead>\n",
       "  <tbody>\n",
       "    <tr>\n",
       "      <th>Karl_Malone</th>\n",
       "      <td>41689</td>\n",
       "      <td>5858</td>\n",
       "      <td>17030</td>\n",
       "      <td>2343</td>\n",
       "      <td>1280</td>\n",
       "      <td>4</td>\n",
       "    </tr>\n",
       "    <tr>\n",
       "      <th>Duncan</th>\n",
       "      <td>31668</td>\n",
       "      <td>4989</td>\n",
       "      <td>17950</td>\n",
       "      <td>1193</td>\n",
       "      <td>3588</td>\n",
       "      <td>4</td>\n",
       "    </tr>\n",
       "    <tr>\n",
       "      <th>Dirk</th>\n",
       "      <td>35223</td>\n",
       "      <td>4011</td>\n",
       "      <td>12935</td>\n",
       "      <td>1359</td>\n",
       "      <td>1410</td>\n",
       "      <td>4</td>\n",
       "    </tr>\n",
       "  </tbody>\n",
       "</table>\n",
       "</div>"
      ],
      "text/plain": [
       "             Points  Assists  Rebounds  Steals  Blocks  Primary Position\n",
       "Player                                                                  \n",
       "Karl_Malone   41689     5858     17030    2343    1280                 4\n",
       "Duncan        31668     4989     17950    1193    3588                 4\n",
       "Dirk          35223     4011     12935    1359    1410                 4"
      ]
     },
     "execution_count": 10,
     "metadata": {},
     "output_type": "execute_result"
    }
   ],
   "source": [
    "power_forwards = totals[totals[\"Primary Position\"] == 4]\n",
    "power_forwards.head(3)"
   ]
  },
  {
   "cell_type": "markdown",
   "metadata": {},
   "source": [
    "<h2> Centers </h2>"
   ]
  },
  {
   "cell_type": "code",
   "execution_count": 11,
   "metadata": {},
   "outputs": [
    {
     "data": {
      "text/html": [
       "<div>\n",
       "<style scoped>\n",
       "    .dataframe tbody tr th:only-of-type {\n",
       "        vertical-align: middle;\n",
       "    }\n",
       "\n",
       "    .dataframe tbody tr th {\n",
       "        vertical-align: top;\n",
       "    }\n",
       "\n",
       "    .dataframe thead th {\n",
       "        text-align: right;\n",
       "    }\n",
       "</style>\n",
       "<table border=\"1\" class=\"dataframe\">\n",
       "  <thead>\n",
       "    <tr style=\"text-align: right;\">\n",
       "      <th></th>\n",
       "      <th>Points</th>\n",
       "      <th>Assists</th>\n",
       "      <th>Rebounds</th>\n",
       "      <th>Steals</th>\n",
       "      <th>Blocks</th>\n",
       "      <th>Primary Position</th>\n",
       "    </tr>\n",
       "    <tr>\n",
       "      <th>Player</th>\n",
       "      <th></th>\n",
       "      <th></th>\n",
       "      <th></th>\n",
       "      <th></th>\n",
       "      <th></th>\n",
       "      <th></th>\n",
       "    </tr>\n",
       "  </thead>\n",
       "  <tbody>\n",
       "    <tr>\n",
       "      <th>Kareem</th>\n",
       "      <td>44149</td>\n",
       "      <td>6427</td>\n",
       "      <td>19921</td>\n",
       "      <td>1349</td>\n",
       "      <td>3665</td>\n",
       "      <td>5</td>\n",
       "    </tr>\n",
       "    <tr>\n",
       "      <th>Wilt</th>\n",
       "      <td>35026</td>\n",
       "      <td>5316</td>\n",
       "      <td>27837</td>\n",
       "      <td>0</td>\n",
       "      <td>0</td>\n",
       "      <td>5</td>\n",
       "    </tr>\n",
       "    <tr>\n",
       "      <th>Shaq</th>\n",
       "      <td>33846</td>\n",
       "      <td>3608</td>\n",
       "      <td>15607</td>\n",
       "      <td>856</td>\n",
       "      <td>3191</td>\n",
       "      <td>5</td>\n",
       "    </tr>\n",
       "  </tbody>\n",
       "</table>\n",
       "</div>"
      ],
      "text/plain": [
       "        Points  Assists  Rebounds  Steals  Blocks  Primary Position\n",
       "Player                                                             \n",
       "Kareem   44149     6427     19921    1349    3665                 5\n",
       "Wilt     35026     5316     27837       0       0                 5\n",
       "Shaq     33846     3608     15607     856    3191                 5"
      ]
     },
     "execution_count": 11,
     "metadata": {},
     "output_type": "execute_result"
    }
   ],
   "source": [
    "centers = totals[totals[\"Primary Position\"] == 5]\n",
    "centers.head(3)"
   ]
  },
  {
   "cell_type": "markdown",
   "metadata": {},
   "source": [
    "<center class=\"alert alert-info\">\n",
    "    <h1> Stats: points </h1>\n",
    "</center>"
   ]
  },
  {
   "cell_type": "code",
   "execution_count": 12,
   "metadata": {},
   "outputs": [],
   "source": [
    "points_button, points_width, points_height, points_output = wd.points_widgets()"
   ]
  },
  {
   "cell_type": "code",
   "execution_count": 13,
   "metadata": {},
   "outputs": [],
   "source": [
    "total_points = ()\n",
    "\n",
    "@points_button.on_click\n",
    "def on_click(self):\n",
    "    points_output.clear_output()\n",
    "    size=(points_width.value, points_height.value)\n",
    "    with points_output:\n",
    "        globals()[\"total_points\"] = op.getTotalPoints(totals,size=size)\n",
    "        op.displayPoints(totals)"
   ]
  },
  {
   "cell_type": "code",
   "execution_count": 14,
   "metadata": {},
   "outputs": [
    {
     "data": {
      "application/vnd.jupyter.widget-view+json": {
       "model_id": "49a02ce0155943a08a3eedaa3a61a3c0",
       "version_major": 2,
       "version_minor": 0
      },
      "text/plain": [
       "IntSlider(value=20, description='Width', max=20, min=5)"
      ]
     },
     "metadata": {},
     "output_type": "display_data"
    },
    {
     "data": {
      "application/vnd.jupyter.widget-view+json": {
       "model_id": "23d6fa84a016441fb64bda85e9e3cdd1",
       "version_major": 2,
       "version_minor": 0
      },
      "text/plain": [
       "IntSlider(value=5, description='Height', max=15, min=5)"
      ]
     },
     "metadata": {},
     "output_type": "display_data"
    },
    {
     "data": {
      "application/vnd.jupyter.widget-view+json": {
       "model_id": "73aa92d93131487dad0f4d8bef23cfcc",
       "version_major": 2,
       "version_minor": 0
      },
      "text/plain": [
       "Button(button_style='info', description='Show total points', style=ButtonStyle())"
      ]
     },
     "metadata": {},
     "output_type": "display_data"
    },
    {
     "data": {
      "application/vnd.jupyter.widget-view+json": {
       "model_id": "c9c2cd23e1dc4441a634f0d47be50471",
       "version_major": 2,
       "version_minor": 0
      },
      "text/plain": [
       "Output()"
      ]
     },
     "metadata": {},
     "output_type": "display_data"
    }
   ],
   "source": [
    "display(points_width, points_height, points_button, points_output)"
   ]
  },
  {
   "cell_type": "markdown",
   "metadata": {},
   "source": [
    "<center class=\"alert alert-info\">\n",
    "    <h1> Stats: assists </h1>\n",
    "</center>"
   ]
  },
  {
   "cell_type": "code",
   "execution_count": 15,
   "metadata": {},
   "outputs": [],
   "source": [
    "assists_button, assists_width, assists_height , assists_output = wd.assists_widgets()"
   ]
  },
  {
   "cell_type": "code",
   "execution_count": 16,
   "metadata": {},
   "outputs": [],
   "source": [
    "total_assists = ()\n",
    "\n",
    "@assists_button.on_click\n",
    "def on_click(self):\n",
    "    assists_output.clear_output()\n",
    "    size=(assists_width.value, assists_height.value)\n",
    "    with assists_output:\n",
    "        globals()[\"total_assists\"] = op.getTotalAssists(totals,size=size)\n",
    "        op.displayAssists(totals)"
   ]
  },
  {
   "cell_type": "code",
   "execution_count": 17,
   "metadata": {},
   "outputs": [
    {
     "data": {
      "application/vnd.jupyter.widget-view+json": {
       "model_id": "5ecdcc1eb48245bd8fd5ceefd2ba3faa",
       "version_major": 2,
       "version_minor": 0
      },
      "text/plain": [
       "IntSlider(value=20, description='Width', max=20, min=5)"
      ]
     },
     "metadata": {},
     "output_type": "display_data"
    },
    {
     "data": {
      "application/vnd.jupyter.widget-view+json": {
       "model_id": "c43669d9150244bdada119478b77e655",
       "version_major": 2,
       "version_minor": 0
      },
      "text/plain": [
       "IntSlider(value=5, description='Height', max=15, min=5)"
      ]
     },
     "metadata": {},
     "output_type": "display_data"
    },
    {
     "data": {
      "application/vnd.jupyter.widget-view+json": {
       "model_id": "ae1ba6dc67bd4324aed386e31793ee9a",
       "version_major": 2,
       "version_minor": 0
      },
      "text/plain": [
       "Button(button_style='info', description='Show total assists', style=ButtonStyle())"
      ]
     },
     "metadata": {},
     "output_type": "display_data"
    },
    {
     "data": {
      "application/vnd.jupyter.widget-view+json": {
       "model_id": "7ef6f4f484f84af2b11391a055bfaee4",
       "version_major": 2,
       "version_minor": 0
      },
      "text/plain": [
       "Output()"
      ]
     },
     "metadata": {},
     "output_type": "display_data"
    }
   ],
   "source": [
    "display(assists_width, assists_height, assists_button, assists_output)"
   ]
  },
  {
   "cell_type": "markdown",
   "metadata": {},
   "source": [
    "<center class=\"alert alert-info\">\n",
    "    <h1> Stats: rebounds </h1>\n",
    "</center>"
   ]
  },
  {
   "cell_type": "code",
   "execution_count": 18,
   "metadata": {},
   "outputs": [],
   "source": [
    "rebounds_button, rebounds_width, rebounds_height, rebounds_output = wd.rebounds_widgets()"
   ]
  },
  {
   "cell_type": "code",
   "execution_count": 19,
   "metadata": {},
   "outputs": [],
   "source": [
    "total_rebounds=()\n",
    "\n",
    "@rebounds_button.on_click\n",
    "def on_click(self):\n",
    "    rebounds_output.clear_output()\n",
    "    size=(rebounds_width.value, rebounds_height.value)\n",
    "    with rebounds_output:\n",
    "        globals()[\"total_rebounds\"] = op.getTotalRebounds(totals,size=size)\n",
    "        op.displayRebounds(totals)"
   ]
  },
  {
   "cell_type": "code",
   "execution_count": 21,
   "metadata": {},
   "outputs": [
    {
     "data": {
      "application/vnd.jupyter.widget-view+json": {
       "model_id": "537329ea5ff74177a5816d29123eee90",
       "version_major": 2,
       "version_minor": 0
      },
      "text/plain": [
       "IntSlider(value=20, description='Width', max=20, min=5)"
      ]
     },
     "metadata": {},
     "output_type": "display_data"
    },
    {
     "data": {
      "application/vnd.jupyter.widget-view+json": {
       "model_id": "79f7a882a49e4bd6a1c3267850a098fc",
       "version_major": 2,
       "version_minor": 0
      },
      "text/plain": [
       "IntSlider(value=5, description='height', max=15, min=5)"
      ]
     },
     "metadata": {},
     "output_type": "display_data"
    },
    {
     "data": {
      "application/vnd.jupyter.widget-view+json": {
       "model_id": "849b9483a50b422ebdaea9bb88ea0773",
       "version_major": 2,
       "version_minor": 0
      },
      "text/plain": [
       "Button(button_style='info', description='Show total rebounds', style=ButtonStyle())"
      ]
     },
     "metadata": {},
     "output_type": "display_data"
    },
    {
     "data": {
      "application/vnd.jupyter.widget-view+json": {
       "model_id": "ac3d423c49ea4ef297d8578ac60930ae",
       "version_major": 2,
       "version_minor": 0
      },
      "text/plain": [
       "Output(outputs=({'output_type': 'display_data', 'data': {'text/plain': '<Figure size 1440x360 with 1 Axes>', '…"
      ]
     },
     "metadata": {},
     "output_type": "display_data"
    }
   ],
   "source": [
    "display(rebounds_width,rebounds_height,rebounds_button,rebounds_output)"
   ]
  },
  {
   "cell_type": "markdown",
   "metadata": {},
   "source": [
    "<center class=\"alert alert-info\">\n",
    "    <h1> Stats: steals </h1>\n",
    "</center>"
   ]
  },
  {
   "cell_type": "code",
   "execution_count": 22,
   "metadata": {},
   "outputs": [],
   "source": [
    "steals_button, steals_width, steals_height, steals_output = wd.steals_widgets()"
   ]
  },
  {
   "cell_type": "code",
   "execution_count": 23,
   "metadata": {},
   "outputs": [],
   "source": [
    "total_steals = ()\n",
    "\n",
    "@steals_button.on_click\n",
    "def on_click(self):\n",
    "    steals_output.clear_output()\n",
    "    size = (steals_width.value,steals_height.value)\n",
    "    with steals_output:\n",
    "        globals()[\"total_steals\"] = op.getTotalSteals(totals,size)\n",
    "        op.displaySteals(totals)"
   ]
  },
  {
   "cell_type": "code",
   "execution_count": 24,
   "metadata": {},
   "outputs": [
    {
     "data": {
      "application/vnd.jupyter.widget-view+json": {
       "model_id": "e446685a77444c5d8b4e16ed671a7049",
       "version_major": 2,
       "version_minor": 0
      },
      "text/plain": [
       "IntSlider(value=20, description='Width', max=20, min=5)"
      ]
     },
     "metadata": {},
     "output_type": "display_data"
    },
    {
     "data": {
      "application/vnd.jupyter.widget-view+json": {
       "model_id": "95eb58b566b04f85a2e94923f99bb4f9",
       "version_major": 2,
       "version_minor": 0
      },
      "text/plain": [
       "IntSlider(value=5, description='Height', max=15, min=5)"
      ]
     },
     "metadata": {},
     "output_type": "display_data"
    },
    {
     "data": {
      "application/vnd.jupyter.widget-view+json": {
       "model_id": "1cdc4c41c0394263bdc1b4a9c1e1edcd",
       "version_major": 2,
       "version_minor": 0
      },
      "text/plain": [
       "Button(button_style='info', description='Show total steals', style=ButtonStyle())"
      ]
     },
     "metadata": {},
     "output_type": "display_data"
    },
    {
     "data": {
      "application/vnd.jupyter.widget-view+json": {
       "model_id": "88f5ff231c9448a8b35ddfaf1e3badfa",
       "version_major": 2,
       "version_minor": 0
      },
      "text/plain": [
       "Output()"
      ]
     },
     "metadata": {},
     "output_type": "display_data"
    }
   ],
   "source": [
    "display(steals_width,steals_height,steals_button,steals_output)"
   ]
  },
  {
   "cell_type": "markdown",
   "metadata": {},
   "source": [
    "<center class=\"alert alert-info\">    \n",
    "    <h1> Stats : blocks </h1>\n",
    "</center>"
   ]
  },
  {
   "cell_type": "code",
   "execution_count": 25,
   "metadata": {},
   "outputs": [],
   "source": [
    "blocks_button, blocks_width, blocks_height, blocks_output = wd.blocks_widgets()"
   ]
  },
  {
   "cell_type": "code",
   "execution_count": 26,
   "metadata": {},
   "outputs": [],
   "source": [
    "total_blocks = ()\n",
    "\n",
    "@blocks_button.on_click\n",
    "def on_click(self):\n",
    "    blocks_output.clear_output()\n",
    "    size = (blocks_width.value,blocks_height.value)\n",
    "    with blocks_output:\n",
    "        globals()[\"total_blocks\"] = op.getTotalBlocks(totals,size)\n",
    "        op.displayBlocks(totals)"
   ]
  },
  {
   "cell_type": "code",
   "execution_count": 27,
   "metadata": {},
   "outputs": [
    {
     "data": {
      "application/vnd.jupyter.widget-view+json": {
       "model_id": "065add225ff24ba480a171e6cc2f176a",
       "version_major": 2,
       "version_minor": 0
      },
      "text/plain": [
       "IntSlider(value=20, description='Width', max=20, min=5)"
      ]
     },
     "metadata": {},
     "output_type": "display_data"
    },
    {
     "data": {
      "application/vnd.jupyter.widget-view+json": {
       "model_id": "fd5e817a66df49f382ec73c3496afa4f",
       "version_major": 2,
       "version_minor": 0
      },
      "text/plain": [
       "IntSlider(value=5, description='Height', max=15, min=5)"
      ]
     },
     "metadata": {},
     "output_type": "display_data"
    },
    {
     "data": {
      "application/vnd.jupyter.widget-view+json": {
       "model_id": "2a51294f213845c2955277fc179a274e",
       "version_major": 2,
       "version_minor": 0
      },
      "text/plain": [
       "Button(button_style='info', description='Show total blocks', style=ButtonStyle())"
      ]
     },
     "metadata": {},
     "output_type": "display_data"
    },
    {
     "data": {
      "application/vnd.jupyter.widget-view+json": {
       "model_id": "528ee7647e4b4c4287c4ae36ab582752",
       "version_major": 2,
       "version_minor": 0
      },
      "text/plain": [
       "Output()"
      ]
     },
     "metadata": {},
     "output_type": "display_data"
    }
   ],
   "source": [
    "display(blocks_width,blocks_height,blocks_button,blocks_output)"
   ]
  },
  {
   "cell_type": "markdown",
   "metadata": {},
   "source": [
    "<center class=\"alert alert-info\">\n",
    "    <h1> Stats: totals </h1>\n",
    "</center>"
   ]
  },
  {
   "cell_type": "code",
   "execution_count": 28,
   "metadata": {},
   "outputs": [],
   "source": [
    "totals_button, totals_width, totals_height, totals_output = wd.totals_widgets()"
   ]
  },
  {
   "cell_type": "code",
   "execution_count": 29,
   "metadata": {},
   "outputs": [],
   "source": [
    "total_totals = ()\n",
    "\n",
    "@totals_button.on_click\n",
    "def on_click(self):\n",
    "    totals_output.clear_output()\n",
    "    size = (totals_width.value,totals_height.value)\n",
    "    with totals_output:\n",
    "        globals()[\"total_totals\"] = op.getTotalTotals(totals,size)\n",
    "        op.displayTotals(total_totals)"
   ]
  },
  {
   "cell_type": "code",
   "execution_count": 30,
   "metadata": {},
   "outputs": [
    {
     "data": {
      "application/vnd.jupyter.widget-view+json": {
       "model_id": "ba39b3c65997400c8f92d05300e19023",
       "version_major": 2,
       "version_minor": 0
      },
      "text/plain": [
       "IntSlider(value=20, description='Width', max=20, min=5)"
      ]
     },
     "metadata": {},
     "output_type": "display_data"
    },
    {
     "data": {
      "application/vnd.jupyter.widget-view+json": {
       "model_id": "63a0d665af4e4b228f82d218583db45c",
       "version_major": 2,
       "version_minor": 0
      },
      "text/plain": [
       "IntSlider(value=5, description='Height', max=15, min=5)"
      ]
     },
     "metadata": {},
     "output_type": "display_data"
    },
    {
     "data": {
      "application/vnd.jupyter.widget-view+json": {
       "model_id": "1694b6b142f14f87b5a7bc5c65a00644",
       "version_major": 2,
       "version_minor": 0
      },
      "text/plain": [
       "Button(button_style='info', description='Show totals', style=ButtonStyle())"
      ]
     },
     "metadata": {},
     "output_type": "display_data"
    },
    {
     "data": {
      "application/vnd.jupyter.widget-view+json": {
       "model_id": "0a8c02345f234073a4fc321711c98800",
       "version_major": 2,
       "version_minor": 0
      },
      "text/plain": [
       "Output()"
      ]
     },
     "metadata": {},
     "output_type": "display_data"
    }
   ],
   "source": [
    "display(totals_width,totals_height,totals_button,totals_output)"
   ]
  },
  {
   "cell_type": "markdown",
   "metadata": {},
   "source": [
    "<h1> Totals grouped by position </h1>"
   ]
  },
  {
   "cell_type": "markdown",
   "metadata": {},
   "source": [
    "<h3 class=\"alert alert-info\"> Totals: guards </h3>"
   ]
  },
  {
   "cell_type": "code",
   "execution_count": 31,
   "metadata": {},
   "outputs": [
    {
     "data": {
      "image/png": "[encoded data removed]",
      "text/plain": [
       "<Figure size 360x360 with 1 Axes>"
      ]
     },
     "metadata": {
      "needs_background": "light"
     },
     "output_type": "display_data"
    },
    {
     "name": "stdout",
     "output_type": "stream",
     "text": [
      " 1 - Stockton :  48420\n",
      " 2 - Robertson :  47759\n",
      " 3 - Jason_Kidd :  46198\n",
      " 4 - Magic :  44440\n",
      " 5 - Russell_Westbrook :  43421\n",
      " 6 - Jerry_West :  43193\n",
      " 7 - CP3 :  42321\n",
      " 8 - Allen_Iverson :  38504\n",
      " 9 - Tony_Parker :  37128\n",
      " 10 - Steve_Nash :  36001\n",
      " 11 - Steph_Curry :  32855\n"
     ]
    },
    {
     "data": {
      "image/png": "[encoded data removed]",
      "text/plain": [
       "<Figure size 360x360 with 1 Axes>"
      ]
     },
     "metadata": {
      "needs_background": "light"
     },
     "output_type": "display_data"
    },
    {
     "name": "stdout",
     "output_type": "stream",
     "text": [
      " 1 - Kobe :  57835\n",
      " 2 - MJ :  56131\n",
      " 3 - Dwyane_Wade :  42506\n",
      " 4 - Ray_Allen :  39886\n"
     ]
    }
   ],
   "source": [
    "op.TotalsByPosition_Guards(point_guards,shooting_guards)"
   ]
  },
  {
   "cell_type": "markdown",
   "metadata": {},
   "source": [
    "<h2> Forwards </h2>"
   ]
  },
  {
   "cell_type": "markdown",
   "metadata": {},
   "source": [
    "<h3 class=\"alert alert-info\"> Totals: forwards </h3>"
   ]
  },
  {
   "cell_type": "code",
   "execution_count": 32,
   "metadata": {},
   "outputs": [
    {
     "data": {
      "image/png": "[encoded data removed]",
      "text/plain": [
       "<Figure size 360x360 with 1 Axes>"
      ]
     },
     "metadata": {
      "needs_background": "light"
     },
     "output_type": "display_data"
    },
    {
     "name": "stdout",
     "output_type": "stream",
     "text": [
      " 1 - LeBron :  70509\n",
      " 2 - Julius_Erving :  57555\n",
      " 3 - John_Havlicek :  46975\n",
      " 4 - Paul_Pierce :  46185\n",
      " 5 - Larry_Bird :  45857\n",
      " 6 - Elgin_Baylor :  44153\n",
      " 7 - Carmelo_Anthony :  42819\n",
      " 8 - Rick_Barry :  42616\n",
      " 9 - Kevin_Durant :  42350\n",
      " 10 - Dominique_Wikins :  40586\n",
      " 11 - Kawhi_Leonard :  22469\n"
     ]
    },
    {
     "data": {
      "image/png": "[encoded data removed]",
      "text/plain": [
       "<Figure size 360x360 with 1 Axes>"
      ]
     },
     "metadata": {
      "needs_background": "light"
     },
     "output_type": "display_data"
    },
    {
     "name": "stdout",
     "output_type": "stream",
     "text": [
      " 1 - Karl_Malone :  68204\n",
      " 2 - Duncan :  59392\n",
      " 3 - Garnett :  55048\n",
      " 4 - Dirk :  54942\n",
      " 5 - Moses_Malone :  51986\n",
      " 6 - Charles_Barkley :  48256\n",
      " 7 - Kevin_McHale :  33220\n",
      " 8 - Anthony_Davis :  24326\n"
     ]
    }
   ],
   "source": [
    "op.TotalsByPosition_Forwards(small_forwards,power_forwards)"
   ]
  },
  {
   "cell_type": "markdown",
   "metadata": {},
   "source": [
    "<h2> Centers </h2>"
   ]
  },
  {
   "cell_type": "markdown",
   "metadata": {},
   "source": [
    "<h3 class=\"alert alert-info\"> Stats </h3>"
   ]
  },
  {
   "cell_type": "code",
   "execution_count": 33,
   "metadata": {},
   "outputs": [
    {
     "data": {
      "image/png": "[encoded data removed]",
      "text/plain": [
       "<Figure size 360x360 with 1 Axes>"
      ]
     },
     "metadata": {
      "needs_background": "light"
     },
     "output_type": "display_data"
    },
    {
     "name": "stdout",
     "output_type": "stream",
     "text": [
      " 1 - Kareem :  75516\n",
      " 2 - Wilt :  68184\n",
      " 3 - Shaq :  57113\n",
      " 4 - Hakeem :  56063\n",
      " 5 - Elvin_Hayes :  52572\n",
      " 6 - Artis_Gilmore :  51647\n",
      " 7 - Robert_Parish :  49087\n",
      " 8 - Bill Russell :  47794\n",
      " 9 - Patrick_Ewing :  47620\n",
      " 10 - David_Robinson :  42340\n",
      " 11 - Dwight_Howard :  42142\n",
      " 12 - Walt_Bellamy :  39497\n",
      " 13 - Nate_Thurmond :  34515\n",
      " 14 - Wes_Unseld :  32827\n"
     ]
    }
   ],
   "source": [
    "op.TotalsByPosition_Centers(centers)"
   ]
  },
  {
   "cell_type": "markdown",
   "metadata": {},
   "source": [
    "<h1> Comparing two players </h1>"
   ]
  },
  {
   "cell_type": "code",
   "execution_count": 35,
   "metadata": {},
   "outputs": [
    {
     "name": "stdin",
     "output_type": "stream",
     "text": [
      "First player's name:  LeBron\n",
      "Second player's name:  Hakeem\n"
     ]
    }
   ],
   "source": [
    "player_one = str(input(\"First player's name: \"))\n",
    "player_two = str(input(\"Second player's name: \"))"
   ]
  },
  {
   "cell_type": "code",
   "execution_count": 36,
   "metadata": {},
   "outputs": [],
   "source": [
    "total_one = int(totals[totals.index==player_one].sum(axis=1))"
   ]
  },
  {
   "cell_type": "code",
   "execution_count": 37,
   "metadata": {},
   "outputs": [],
   "source": [
    "total_two = int(totals[totals.index==player_two].sum(axis=1))"
   ]
  },
  {
   "cell_type": "code",
   "execution_count": 38,
   "metadata": {},
   "outputs": [
    {
     "name": "stdout",
     "output_type": "stream",
     "text": [
      "LeBron has a higher total\n"
     ]
    }
   ],
   "source": [
    "op.compare_players(total_one, player_one, total_two, player_two)"
   ]
  },
  {
   "cell_type": "code",
   "execution_count": null,
   "metadata": {},
   "outputs": [],
   "source": []
  }
 ],
 "metadata": {
  "celltoolbar": "Format de la Cellule Texte Brut",
  "kernelspec": {
   "display_name": "Python 3",
   "language": "python",
   "name": "python3"
  },
  "language_info": {
   "codemirror_mode": {
    "name": "ipython",
    "version": 3
   },
   "file_extension": ".py",
   "mimetype": "text/x-python",
   "name": "python",
   "nbconvert_exporter": "python",
   "pygments_lexer": "ipython3",
   "version": "3.8.8"
  }
 },
 "nbformat": 4,
 "nbformat_minor": 4
}
